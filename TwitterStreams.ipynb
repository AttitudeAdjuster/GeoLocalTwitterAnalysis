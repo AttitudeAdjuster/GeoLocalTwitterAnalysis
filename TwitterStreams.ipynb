{
 "cells": [
  {
   "cell_type": "code",
   "execution_count": 16,
   "metadata": {},
   "outputs": [],
   "source": [
    "from twitterconnect import connect_to_twitter\n",
    "from tweepy.streaming import StreamListener\n",
    "from tweepy import OAuthHandler\n",
    "from tweepy import Stream"
   ]
  },
  {
   "cell_type": "code",
   "execution_count": 25,
   "metadata": {},
   "outputs": [],
   "source": [
    "twapi=connect_to_twitter()"
   ]
  },
  {
   "cell_type": "code",
   "execution_count": null,
   "metadata": {
    "scrolled": false
   },
   "outputs": [],
   "source": [
    "def SentimentAnalyzer():\n",
    "    return \"\"\n",
    "\n",
    "# # # # TWITTER STREAMER # # # #\n",
    "class TwitterStreamer():  #Class for streaming and processing live tweets.\n",
    "    def __init__(self):\n",
    "        pass\n",
    "\n",
    "    def stream_tweets(self, fetched_tweets_filename, hash_tag_list):\n",
    "        #This handles Twitter authetification and the connection to Twitter Streaming API\n",
    "        l = StdOutListener(fetched_tweets_filename)\n",
    "        auth = twapi. auth #OAuthHandler(config.TWITTER_CONSUMER_KEY, config.TWITTER_CONSUMER_SECRET)\n",
    "        #auth.set_access_token(config.TWITTER_ACCESS_TOKEN, config.TWITTER_ACCESS_TOKEN_SECRET)\n",
    "        stream = Stream(auth, l)\n",
    "        #This line filter Twitter Streams to capture data by the keywords: \n",
    "        stream.filter(track=hash_tag_list)\n",
    "\n",
    "\n",
    "# # # # TWITTER STREAM LISTENER # # # #\n",
    "class StdOutListener(StreamListener): #This is a basic listener that just prints received tweets to stdout.\n",
    "\n",
    "    def __init__(self, fetched_tweets_filename):\n",
    "        self.fetched_tweets_filename = fetched_tweets_filename\n",
    "        self.sa = SentimentAnalyzer()\n",
    "\n",
    "    def on_data(self, data):\n",
    "        try:\n",
    "            tweet = data.split(',\"text\":\"')[1].split('\",\"source')[0]\n",
    "            if not tweet.startswith('RT'):\n",
    "                polarity, magnitude = 0,0 #self.sa.analyze_tweet_sentiment(tweet)\n",
    "                tweet_and_sentiment = tweet +',' + \"POLARITY::\" + str(polarity) + \",\" + \\\n",
    "                                      \"MAGNITUDE::\" + str(magnitude) + '\\n'            \n",
    "                print(tweet_and_sentiment)\n",
    "                print(\"\\n\")\n",
    "                with open(fetched_tweets_filename,'a') as tf:\n",
    "                    tf.write(tweet_and_sentiment)\n",
    "                    #tf.write(\"\\n\")\n",
    "        except KeyboardInterrupt:\n",
    "            print(\"exited early\")\n",
    "        return True\n",
    "\n",
    "    def on_error(self, status):\n",
    "        print(status)\n",
    "\n",
    "if __name__ == '__main__':\n",
    "\n",
    "    hash_tag_list = ['#brexit']\n",
    "    fetched_tweets_filename = \"brexit_tweets.txt\"\n",
    "\n",
    "    ts = TwitterStreamer()\n",
    "    ts.stream_tweets(fetched_tweets_filename, hash_tag_list)\n",
    "    "
   ]
  },
  {
   "cell_type": "code",
   "execution_count": null,
   "metadata": {
    "scrolled": false
   },
   "outputs": [],
   "source": []
  },
  {
   "cell_type": "code",
   "execution_count": null,
   "metadata": {},
   "outputs": [],
   "source": [
    "api.auth.consumer_key"
   ]
  },
  {
   "cell_type": "code",
   "execution_count": 24,
   "metadata": {},
   "outputs": [
    {
     "data": {
      "text/plain": [
       "<tweepy.auth.OAuthHandler at 0x10687e048>"
      ]
     },
     "execution_count": 24,
     "metadata": {},
     "output_type": "execute_result"
    }
   ],
   "source": [
    "api.auth"
   ]
  },
  {
   "cell_type": "code",
   "execution_count": null,
   "metadata": {},
   "outputs": [],
   "source": []
  }
 ],
 "metadata": {
  "kernelspec": {
   "display_name": "Python 3",
   "language": "python",
   "name": "python3"
  },
  "language_info": {
   "codemirror_mode": {
    "name": "ipython",
    "version": 3
   },
   "file_extension": ".py",
   "mimetype": "text/x-python",
   "name": "python",
   "nbconvert_exporter": "python",
   "pygments_lexer": "ipython3",
   "version": "3.6.2"
  }
 },
 "nbformat": 4,
 "nbformat_minor": 2
}
